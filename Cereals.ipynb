{
 "cells": [
  {
   "cell_type": "code",
   "execution_count": 11,
   "metadata": {
    "collapsed": true
   },
   "outputs": [],
   "source": [
    "import csv\n",
    "import pandas as pd\n",
    "from sklearn.cluster import KMeans\n",
    "from sklearn import preprocessing\n",
    "import numpy as np\n",
    "import matplotlib as plt\n",
    "from pandas.tools.plotting import scatter_matrix\n",
    "%matplotlib inline"
   ]
  },
  {
   "cell_type": "code",
   "execution_count": 2,
   "metadata": {
    "collapsed": true
   },
   "outputs": [],
   "source": [
    "df = pd.read_csv(\"cereals.csv\")"
   ]
  },
  {
   "cell_type": "code",
   "execution_count": 3,
   "metadata": {
    "collapsed": false
   },
   "outputs": [
    {
     "data": {
      "text/html": [
       "<div style=\"max-height:1000px;max-width:1500px;overflow:auto;\">\n",
       "<table border=\"1\" class=\"dataframe\">\n",
       "  <thead>\n",
       "    <tr style=\"text-align: right;\">\n",
       "      <th></th>\n",
       "      <th>name</th>\n",
       "      <th>mfr</th>\n",
       "      <th>type</th>\n",
       "      <th>calories</th>\n",
       "      <th>protein</th>\n",
       "      <th>fat</th>\n",
       "      <th>sodium</th>\n",
       "      <th>fiber</th>\n",
       "      <th>carbo</th>\n",
       "      <th>sugars</th>\n",
       "      <th>potass</th>\n",
       "      <th>vitamins</th>\n",
       "      <th>shelf</th>\n",
       "      <th>weight</th>\n",
       "      <th>cups</th>\n",
       "    </tr>\n",
       "  </thead>\n",
       "  <tbody>\n",
       "    <tr>\n",
       "      <th>0</th>\n",
       "      <td>100%_Bran</td>\n",
       "      <td>N</td>\n",
       "      <td>C</td>\n",
       "      <td>70</td>\n",
       "      <td>4</td>\n",
       "      <td>1</td>\n",
       "      <td>130</td>\n",
       "      <td>10</td>\n",
       "      <td>5</td>\n",
       "      <td>6</td>\n",
       "      <td>280</td>\n",
       "      <td>25</td>\n",
       "      <td>3</td>\n",
       "      <td>1</td>\n",
       "      <td>0.33</td>\n",
       "    </tr>\n",
       "    <tr>\n",
       "      <th>1</th>\n",
       "      <td>100%_Natural_Bran</td>\n",
       "      <td>Q</td>\n",
       "      <td>C</td>\n",
       "      <td>120</td>\n",
       "      <td>3</td>\n",
       "      <td>5</td>\n",
       "      <td>15</td>\n",
       "      <td>2</td>\n",
       "      <td>8</td>\n",
       "      <td>8</td>\n",
       "      <td>135</td>\n",
       "      <td>0</td>\n",
       "      <td>3</td>\n",
       "      <td>1</td>\n",
       "      <td>1.00</td>\n",
       "    </tr>\n",
       "    <tr>\n",
       "      <th>2</th>\n",
       "      <td>All-Bran</td>\n",
       "      <td>K</td>\n",
       "      <td>C</td>\n",
       "      <td>70</td>\n",
       "      <td>4</td>\n",
       "      <td>1</td>\n",
       "      <td>260</td>\n",
       "      <td>9</td>\n",
       "      <td>7</td>\n",
       "      <td>5</td>\n",
       "      <td>320</td>\n",
       "      <td>25</td>\n",
       "      <td>3</td>\n",
       "      <td>1</td>\n",
       "      <td>0.33</td>\n",
       "    </tr>\n",
       "    <tr>\n",
       "      <th>3</th>\n",
       "      <td>All-Bran_with_Extra_Fiber</td>\n",
       "      <td>K</td>\n",
       "      <td>C</td>\n",
       "      <td>50</td>\n",
       "      <td>4</td>\n",
       "      <td>0</td>\n",
       "      <td>140</td>\n",
       "      <td>14</td>\n",
       "      <td>8</td>\n",
       "      <td>0</td>\n",
       "      <td>330</td>\n",
       "      <td>25</td>\n",
       "      <td>3</td>\n",
       "      <td>1</td>\n",
       "      <td>0.50</td>\n",
       "    </tr>\n",
       "    <tr>\n",
       "      <th>4</th>\n",
       "      <td>Almond_Delight</td>\n",
       "      <td>R</td>\n",
       "      <td>C</td>\n",
       "      <td>110</td>\n",
       "      <td>2</td>\n",
       "      <td>2</td>\n",
       "      <td>200</td>\n",
       "      <td>1</td>\n",
       "      <td>14</td>\n",
       "      <td>8</td>\n",
       "      <td>-1</td>\n",
       "      <td>25</td>\n",
       "      <td>3</td>\n",
       "      <td>1</td>\n",
       "      <td>0.75</td>\n",
       "    </tr>\n",
       "  </tbody>\n",
       "</table>\n",
       "</div>"
      ],
      "text/plain": [
       "                        name mfr type  calories  protein  fat  sodium  fiber  \\\n",
       "0                  100%_Bran   N    C        70        4    1     130     10   \n",
       "1          100%_Natural_Bran   Q    C       120        3    5      15      2   \n",
       "2                   All-Bran   K    C        70        4    1     260      9   \n",
       "3  All-Bran_with_Extra_Fiber   K    C        50        4    0     140     14   \n",
       "4             Almond_Delight   R    C       110        2    2     200      1   \n",
       "\n",
       "   carbo  sugars  potass  vitamins  shelf  weight  cups  \n",
       "0      5       6     280        25      3       1  0.33  \n",
       "1      8       8     135         0      3       1  1.00  \n",
       "2      7       5     320        25      3       1  0.33  \n",
       "3      8       0     330        25      3       1  0.50  \n",
       "4     14       8      -1        25      3       1  0.75  "
      ]
     },
     "execution_count": 3,
     "metadata": {},
     "output_type": "execute_result"
    }
   ],
   "source": [
    "df.head()"
   ]
  },
  {
   "cell_type": "markdown",
   "metadata": {
    "collapsed": true
   },
   "source": [
    "Looking at this, it's clear that we will have to do something about \"mfr\" and \"type\" colummns because they are not numbers. To get some ennumeration, I'm looking at the value counts of them to see if 1) they are important and 2) to get a use-weighted integer to assign to the contents."
   ]
  },
  {
   "cell_type": "markdown",
   "metadata": {},
   "source": [
    "## Cleaning Data"
   ]
  },
  {
   "cell_type": "code",
   "execution_count": 4,
   "metadata": {
    "collapsed": false
   },
   "outputs": [],
   "source": [
    "df = df.reindex(np.random.permutation(df.index)) # randomize order of data"
   ]
  },
  {
   "cell_type": "code",
   "execution_count": 5,
   "metadata": {
    "collapsed": false
   },
   "outputs": [
    {
     "name": "stdout",
     "output_type": "stream",
     "text": [
      "name           100%_Bran\n",
      "mfr            A\n",
      "type           C\n",
      "calories       50\n",
      "protein        1\n",
      "fat            0\n",
      "sodium         0\n",
      "fiber          0.0\n",
      "carbo          -1.0\n",
      "sugars         -1\n",
      "potass         -1\n",
      "vitamins       0\n",
      "shelf          1\n",
      "weight         0.5\n",
      "cups           0.25\n"
     ]
    }
   ],
   "source": [
    "for col in df.columns:\n",
    "    print(col.ljust(15)+str(min(df[col])))"
   ]
  },
  {
   "cell_type": "code",
   "execution_count": 6,
   "metadata": {
    "collapsed": true
   },
   "outputs": [],
   "source": [
    "replace_cols = [\"carbo\", \"sugars\", \"potass\"]"
   ]
  },
  {
   "cell_type": "code",
   "execution_count": 7,
   "metadata": {
    "collapsed": true
   },
   "outputs": [],
   "source": [
    "avg_cols = [0]*3\n",
    "for i in range(3):\n",
    "    avg_cols[i] = sum(df[replace_cols[i]]) / len(df[replace_cols[i]])"
   ]
  },
  {
   "cell_type": "code",
   "execution_count": 8,
   "metadata": {
    "collapsed": false
   },
   "outputs": [],
   "source": [
    "for i in range(3): # replace missing things with average value\n",
    "    col = replace_cols[i]\n",
    "    df[col] = df[col].replace(-1, avg_cols[i])"
   ]
  },
  {
   "cell_type": "code",
   "execution_count": 9,
   "metadata": {
    "collapsed": false
   },
   "outputs": [
    {
     "data": {
      "text/plain": [
       "<matplotlib.axes._subplots.AxesSubplot at 0x10d2405f8>"
      ]
     },
     "execution_count": 9,
     "metadata": {},
     "output_type": "execute_result"
    },
    {
     "data": {
      "image/png": "[encoded data removed]",
      "text/plain": [
       "<matplotlib.figure.Figure at 0x10d20bb38>"
      ]
     },
     "metadata": {},
     "output_type": "display_data"
    }
   ],
   "source": [
    "df.plot(kind=\"scatter\", x=\"calories\", y=\"weight\")"
   ]
  },
  {
   "cell_type": "code",
   "execution_count": 10,
   "metadata": {
    "collapsed": false
   },
   "outputs": [
    {
     "data": {
      "text/plain": [
       "<matplotlib.axes._subplots.AxesSubplot at 0x10d224048>"
      ]
     },
     "execution_count": 10,
     "metadata": {},
     "output_type": "execute_result"
    },
    {
     "data": {
      "image/png": "[encoded data removed]",
      "text/plain": [
       "<matplotlib.figure.Figure at 0x10d2bb7b8>"
      ]
     },
     "metadata": {},
     "output_type": "display_data"
    }
   ],
   "source": [
    "df.plot(kind=\"scatter\", x=\"fiber\", y=\"potass\")"
   ]
  },
  {
   "cell_type": "markdown",
   "metadata": {},
   "source": [
    "Weight and calories are not equivelant, and cups isn't either."
   ]
  },
  {
   "cell_type": "code",
   "execution_count": 12,
   "metadata": {
    "collapsed": true
   },
   "outputs": [],
   "source": [
    "corr = df.corr()"
   ]
  },
  {
   "cell_type": "code",
   "execution_count": 16,
   "metadata": {
    "collapsed": false
   },
   "outputs": [
    {
     "data": {
      "image/png": "[encoded data removed]",
      "text/plain": [
       "<matplotlib.figure.Figure at 0x10e3cf908>"
      ]
     },
     "metadata": {},
     "output_type": "display_data"
    }
   ],
   "source": [
    "scatter_matrix(df, alpha=0.2, figsize=(30, 20), diagonal='kde');"
   ]
  },
  {
   "cell_type": "code",
   "execution_count": null,
   "metadata": {
    "collapsed": true
   },
   "outputs": [],
   "source": []
  },
  {
   "cell_type": "code",
   "execution_count": 17,
   "metadata": {
    "collapsed": false
   },
   "outputs": [
    {
     "data": {
      "text/html": [
       "<div style=\"max-height:1000px;max-width:1500px;overflow:auto;\">\n",
       "<table border=\"1\" class=\"dataframe\">\n",
       "  <thead>\n",
       "    <tr style=\"text-align: right;\">\n",
       "      <th></th>\n",
       "      <th>name</th>\n",
       "      <th>mfr</th>\n",
       "      <th>type</th>\n",
       "      <th>calories</th>\n",
       "      <th>protein</th>\n",
       "      <th>fat</th>\n",
       "      <th>sodium</th>\n",
       "      <th>fiber</th>\n",
       "      <th>carbo</th>\n",
       "      <th>sugars</th>\n",
       "      <th>potass</th>\n",
       "      <th>vitamins</th>\n",
       "      <th>shelf</th>\n",
       "      <th>weight</th>\n",
       "      <th>cups</th>\n",
       "    </tr>\n",
       "  </thead>\n",
       "  <tbody>\n",
       "    <tr>\n",
       "      <th>68</th>\n",
       "      <td>Strawberry_Fruit_Wheats</td>\n",
       "      <td>N</td>\n",
       "      <td>C</td>\n",
       "      <td>90</td>\n",
       "      <td>2</td>\n",
       "      <td>0</td>\n",
       "      <td>15</td>\n",
       "      <td>3</td>\n",
       "      <td>15</td>\n",
       "      <td>5</td>\n",
       "      <td>90</td>\n",
       "      <td>25</td>\n",
       "      <td>2</td>\n",
       "      <td>1.00</td>\n",
       "      <td>1.00</td>\n",
       "    </tr>\n",
       "    <tr>\n",
       "      <th>40</th>\n",
       "      <td>Kix</td>\n",
       "      <td>G</td>\n",
       "      <td>C</td>\n",
       "      <td>110</td>\n",
       "      <td>2</td>\n",
       "      <td>1</td>\n",
       "      <td>260</td>\n",
       "      <td>0</td>\n",
       "      <td>21</td>\n",
       "      <td>3</td>\n",
       "      <td>40</td>\n",
       "      <td>25</td>\n",
       "      <td>2</td>\n",
       "      <td>1.00</td>\n",
       "      <td>1.50</td>\n",
       "    </tr>\n",
       "    <tr>\n",
       "      <th>28</th>\n",
       "      <td>Fruitful_Bran</td>\n",
       "      <td>K</td>\n",
       "      <td>C</td>\n",
       "      <td>120</td>\n",
       "      <td>3</td>\n",
       "      <td>0</td>\n",
       "      <td>240</td>\n",
       "      <td>5</td>\n",
       "      <td>14</td>\n",
       "      <td>12</td>\n",
       "      <td>190</td>\n",
       "      <td>25</td>\n",
       "      <td>3</td>\n",
       "      <td>1.33</td>\n",
       "      <td>0.67</td>\n",
       "    </tr>\n",
       "    <tr>\n",
       "      <th>16</th>\n",
       "      <td>Corn_Flakes</td>\n",
       "      <td>K</td>\n",
       "      <td>C</td>\n",
       "      <td>100</td>\n",
       "      <td>2</td>\n",
       "      <td>0</td>\n",
       "      <td>290</td>\n",
       "      <td>1</td>\n",
       "      <td>21</td>\n",
       "      <td>2</td>\n",
       "      <td>35</td>\n",
       "      <td>25</td>\n",
       "      <td>1</td>\n",
       "      <td>1.00</td>\n",
       "      <td>1.00</td>\n",
       "    </tr>\n",
       "    <tr>\n",
       "      <th>63</th>\n",
       "      <td>Shredded_Wheat</td>\n",
       "      <td>N</td>\n",
       "      <td>C</td>\n",
       "      <td>80</td>\n",
       "      <td>2</td>\n",
       "      <td>0</td>\n",
       "      <td>0</td>\n",
       "      <td>3</td>\n",
       "      <td>16</td>\n",
       "      <td>0</td>\n",
       "      <td>95</td>\n",
       "      <td>0</td>\n",
       "      <td>1</td>\n",
       "      <td>0.83</td>\n",
       "      <td>1.00</td>\n",
       "    </tr>\n",
       "  </tbody>\n",
       "</table>\n",
       "</div>"
      ],
      "text/plain": [
       "                       name mfr type  calories  protein  fat  sodium  fiber  \\\n",
       "68  Strawberry_Fruit_Wheats   N    C        90        2    0      15      3   \n",
       "40                      Kix   G    C       110        2    1     260      0   \n",
       "28            Fruitful_Bran   K    C       120        3    0     240      5   \n",
       "16              Corn_Flakes   K    C       100        2    0     290      1   \n",
       "63           Shredded_Wheat   N    C        80        2    0       0      3   \n",
       "\n",
       "    carbo  sugars  potass  vitamins  shelf  weight  cups  \n",
       "68     15       5      90        25      2    1.00  1.00  \n",
       "40     21       3      40        25      2    1.00  1.50  \n",
       "28     14      12     190        25      3    1.33  0.67  \n",
       "16     21       2      35        25      1    1.00  1.00  \n",
       "63     16       0      95         0      1    0.83  1.00  "
      ]
     },
     "execution_count": 17,
     "metadata": {},
     "output_type": "execute_result"
    }
   ],
   "source": [
    "df.head()"
   ]
  },
  {
   "cell_type": "code",
   "execution_count": 18,
   "metadata": {
    "collapsed": false
   },
   "outputs": [],
   "source": [
    "for col in df.columns[3:]:\n",
    "    df[col] = df[col] / df[\"weight\"]\n",
    "df = df.drop(\"weight\", axis=1)"
   ]
  },
  {
   "cell_type": "code",
   "execution_count": 19,
   "metadata": {
    "collapsed": false
   },
   "outputs": [
    {
     "data": {
      "text/html": [
       "<div style=\"max-height:1000px;max-width:1500px;overflow:auto;\">\n",
       "<table border=\"1\" class=\"dataframe\">\n",
       "  <thead>\n",
       "    <tr style=\"text-align: right;\">\n",
       "      <th></th>\n",
       "      <th>name</th>\n",
       "      <th>mfr</th>\n",
       "      <th>type</th>\n",
       "      <th>calories</th>\n",
       "      <th>protein</th>\n",
       "      <th>fat</th>\n",
       "      <th>sodium</th>\n",
       "      <th>fiber</th>\n",
       "      <th>carbo</th>\n",
       "      <th>sugars</th>\n",
       "      <th>potass</th>\n",
       "      <th>vitamins</th>\n",
       "      <th>shelf</th>\n",
       "      <th>cups</th>\n",
       "    </tr>\n",
       "  </thead>\n",
       "  <tbody>\n",
       "    <tr>\n",
       "      <th>68</th>\n",
       "      <td>Strawberry_Fruit_Wheats</td>\n",
       "      <td>N</td>\n",
       "      <td>C</td>\n",
       "      <td>90.000000</td>\n",
       "      <td>2.000000</td>\n",
       "      <td>0</td>\n",
       "      <td>15.000000</td>\n",
       "      <td>3.000000</td>\n",
       "      <td>15.000000</td>\n",
       "      <td>5.000000</td>\n",
       "      <td>90.000000</td>\n",
       "      <td>25.000000</td>\n",
       "      <td>2.000000</td>\n",
       "      <td>1.00</td>\n",
       "    </tr>\n",
       "    <tr>\n",
       "      <th>40</th>\n",
       "      <td>Kix</td>\n",
       "      <td>G</td>\n",
       "      <td>C</td>\n",
       "      <td>110.000000</td>\n",
       "      <td>2.000000</td>\n",
       "      <td>1</td>\n",
       "      <td>260.000000</td>\n",
       "      <td>0.000000</td>\n",
       "      <td>21.000000</td>\n",
       "      <td>3.000000</td>\n",
       "      <td>40.000000</td>\n",
       "      <td>25.000000</td>\n",
       "      <td>2.000000</td>\n",
       "      <td>1.50</td>\n",
       "    </tr>\n",
       "    <tr>\n",
       "      <th>28</th>\n",
       "      <td>Fruitful_Bran</td>\n",
       "      <td>K</td>\n",
       "      <td>C</td>\n",
       "      <td>90.225564</td>\n",
       "      <td>2.255639</td>\n",
       "      <td>0</td>\n",
       "      <td>180.451128</td>\n",
       "      <td>3.759398</td>\n",
       "      <td>10.526316</td>\n",
       "      <td>9.022556</td>\n",
       "      <td>142.857143</td>\n",
       "      <td>18.796992</td>\n",
       "      <td>2.255639</td>\n",
       "      <td>0.67</td>\n",
       "    </tr>\n",
       "    <tr>\n",
       "      <th>16</th>\n",
       "      <td>Corn_Flakes</td>\n",
       "      <td>K</td>\n",
       "      <td>C</td>\n",
       "      <td>100.000000</td>\n",
       "      <td>2.000000</td>\n",
       "      <td>0</td>\n",
       "      <td>290.000000</td>\n",
       "      <td>1.000000</td>\n",
       "      <td>21.000000</td>\n",
       "      <td>2.000000</td>\n",
       "      <td>35.000000</td>\n",
       "      <td>25.000000</td>\n",
       "      <td>1.000000</td>\n",
       "      <td>1.00</td>\n",
       "    </tr>\n",
       "    <tr>\n",
       "      <th>63</th>\n",
       "      <td>Shredded_Wheat</td>\n",
       "      <td>N</td>\n",
       "      <td>C</td>\n",
       "      <td>96.385542</td>\n",
       "      <td>2.409639</td>\n",
       "      <td>0</td>\n",
       "      <td>0.000000</td>\n",
       "      <td>3.614458</td>\n",
       "      <td>19.277108</td>\n",
       "      <td>0.000000</td>\n",
       "      <td>114.457831</td>\n",
       "      <td>0.000000</td>\n",
       "      <td>1.204819</td>\n",
       "      <td>1.00</td>\n",
       "    </tr>\n",
       "  </tbody>\n",
       "</table>\n",
       "</div>"
      ],
      "text/plain": [
       "                       name mfr type    calories   protein  fat      sodium  \\\n",
       "68  Strawberry_Fruit_Wheats   N    C   90.000000  2.000000    0   15.000000   \n",
       "40                      Kix   G    C  110.000000  2.000000    1  260.000000   \n",
       "28            Fruitful_Bran   K    C   90.225564  2.255639    0  180.451128   \n",
       "16              Corn_Flakes   K    C  100.000000  2.000000    0  290.000000   \n",
       "63           Shredded_Wheat   N    C   96.385542  2.409639    0    0.000000   \n",
       "\n",
       "       fiber      carbo    sugars      potass   vitamins     shelf  cups  \n",
       "68  3.000000  15.000000  5.000000   90.000000  25.000000  2.000000  1.00  \n",
       "40  0.000000  21.000000  3.000000   40.000000  25.000000  2.000000  1.50  \n",
       "28  3.759398  10.526316  9.022556  142.857143  18.796992  2.255639  0.67  \n",
       "16  1.000000  21.000000  2.000000   35.000000  25.000000  1.000000  1.00  \n",
       "63  3.614458  19.277108  0.000000  114.457831   0.000000  1.204819  1.00  "
      ]
     },
     "execution_count": 19,
     "metadata": {},
     "output_type": "execute_result"
    }
   ],
   "source": [
    "df.head()"
   ]
  },
  {
   "cell_type": "markdown",
   "metadata": {},
   "source": [
    "## Preprocessing"
   ]
  },
  {
   "cell_type": "code",
   "execution_count": 21,
   "metadata": {
    "collapsed": false
   },
   "outputs": [
    {
     "data": {
      "text/plain": [
       "K    23\n",
       "G    22\n",
       "P     9\n",
       "Q     8\n",
       "R     8\n",
       "N     6\n",
       "A     1\n",
       "dtype: int64"
      ]
     },
     "execution_count": 21,
     "metadata": {},
     "output_type": "execute_result"
    }
   ],
   "source": [
    "df[\"mfr\"].value_counts()"
   ]
  },
  {
   "cell_type": "code",
   "execution_count": 22,
   "metadata": {
    "collapsed": false
   },
   "outputs": [
    {
     "data": {
      "text/plain": [
       "C    74\n",
       "H     3\n",
       "dtype: int64"
      ]
     },
     "execution_count": 22,
     "metadata": {},
     "output_type": "execute_result"
    }
   ],
   "source": [
    "df[\"type\"].value_counts()"
   ]
  },
  {
   "cell_type": "markdown",
   "metadata": {},
   "source": [
    "The hot/cold dichotomy seems to be insignificant enough to just drop. The \"mfr\" values are renumbered by prevelance, which might help to preserve some \"distance\" sense."
   ]
  },
  {
   "cell_type": "code",
   "execution_count": 23,
   "metadata": {
    "collapsed": false
   },
   "outputs": [],
   "source": [
    "mfr_numbs = {\n",
    "    \"K\":1,\n",
    "    \"G\":2,\n",
    "    \"P\":3,\n",
    "    \"R\":4,\n",
    "    \"Q\":5,\n",
    "    \"N\":6,\n",
    "    \"A\":7\n",
    "}"
   ]
  },
  {
   "cell_type": "code",
   "execution_count": 24,
   "metadata": {
    "collapsed": false
   },
   "outputs": [],
   "source": [
    "df3 = df\n",
    "df3[\"mfr\"] = df[\"mfr\"].apply(lambda val: mfr_numbs[val]) # applying the ennumeration scheme\n",
    "df3 = df3.drop(\"type\", axis=1)\n",
    "df3 = df3.drop(\"name\", axis=1)"
   ]
  },
  {
   "cell_type": "code",
   "execution_count": 25,
   "metadata": {
    "collapsed": false
   },
   "outputs": [
    {
     "data": {
      "text/plain": [
       "1.00    30\n",
       "0.75    16\n",
       "0.67    13\n",
       "0.50     7\n",
       "0.33     3\n",
       "0.88     2\n",
       "1.25     1\n",
       "1.33     1\n",
       "1.50     1\n",
       "0.80     1\n",
       "0.25     1\n",
       "1.13     1\n",
       "dtype: int64"
      ]
     },
     "execution_count": 25,
     "metadata": {},
     "output_type": "execute_result"
    }
   ],
   "source": [
    "df3[\"cups\"].value_counts()"
   ]
  },
  {
   "cell_type": "code",
   "execution_count": 26,
   "metadata": {
    "collapsed": false
   },
   "outputs": [
    {
     "data": {
      "text/html": [
       "<div style=\"max-height:1000px;max-width:1500px;overflow:auto;\">\n",
       "<table border=\"1\" class=\"dataframe\">\n",
       "  <thead>\n",
       "    <tr style=\"text-align: right;\">\n",
       "      <th></th>\n",
       "      <th>mfr</th>\n",
       "      <th>calories</th>\n",
       "      <th>protein</th>\n",
       "      <th>fat</th>\n",
       "      <th>sodium</th>\n",
       "      <th>fiber</th>\n",
       "      <th>carbo</th>\n",
       "      <th>sugars</th>\n",
       "      <th>potass</th>\n",
       "      <th>vitamins</th>\n",
       "      <th>shelf</th>\n",
       "      <th>cups</th>\n",
       "    </tr>\n",
       "  </thead>\n",
       "  <tbody>\n",
       "    <tr>\n",
       "      <th>68</th>\n",
       "      <td>6</td>\n",
       "      <td>90.000000</td>\n",
       "      <td>2.000000</td>\n",
       "      <td>0</td>\n",
       "      <td>15.000000</td>\n",
       "      <td>3.000000</td>\n",
       "      <td>15.000000</td>\n",
       "      <td>5.000000</td>\n",
       "      <td>90.000000</td>\n",
       "      <td>25.000000</td>\n",
       "      <td>2.000000</td>\n",
       "      <td>1.00</td>\n",
       "    </tr>\n",
       "    <tr>\n",
       "      <th>40</th>\n",
       "      <td>2</td>\n",
       "      <td>110.000000</td>\n",
       "      <td>2.000000</td>\n",
       "      <td>1</td>\n",
       "      <td>260.000000</td>\n",
       "      <td>0.000000</td>\n",
       "      <td>21.000000</td>\n",
       "      <td>3.000000</td>\n",
       "      <td>40.000000</td>\n",
       "      <td>25.000000</td>\n",
       "      <td>2.000000</td>\n",
       "      <td>1.50</td>\n",
       "    </tr>\n",
       "    <tr>\n",
       "      <th>28</th>\n",
       "      <td>1</td>\n",
       "      <td>90.225564</td>\n",
       "      <td>2.255639</td>\n",
       "      <td>0</td>\n",
       "      <td>180.451128</td>\n",
       "      <td>3.759398</td>\n",
       "      <td>10.526316</td>\n",
       "      <td>9.022556</td>\n",
       "      <td>142.857143</td>\n",
       "      <td>18.796992</td>\n",
       "      <td>2.255639</td>\n",
       "      <td>0.67</td>\n",
       "    </tr>\n",
       "    <tr>\n",
       "      <th>16</th>\n",
       "      <td>1</td>\n",
       "      <td>100.000000</td>\n",
       "      <td>2.000000</td>\n",
       "      <td>0</td>\n",
       "      <td>290.000000</td>\n",
       "      <td>1.000000</td>\n",
       "      <td>21.000000</td>\n",
       "      <td>2.000000</td>\n",
       "      <td>35.000000</td>\n",
       "      <td>25.000000</td>\n",
       "      <td>1.000000</td>\n",
       "      <td>1.00</td>\n",
       "    </tr>\n",
       "    <tr>\n",
       "      <th>63</th>\n",
       "      <td>6</td>\n",
       "      <td>96.385542</td>\n",
       "      <td>2.409639</td>\n",
       "      <td>0</td>\n",
       "      <td>0.000000</td>\n",
       "      <td>3.614458</td>\n",
       "      <td>19.277108</td>\n",
       "      <td>0.000000</td>\n",
       "      <td>114.457831</td>\n",
       "      <td>0.000000</td>\n",
       "      <td>1.204819</td>\n",
       "      <td>1.00</td>\n",
       "    </tr>\n",
       "  </tbody>\n",
       "</table>\n",
       "</div>"
      ],
      "text/plain": [
       "    mfr    calories   protein  fat      sodium     fiber      carbo    sugars  \\\n",
       "68    6   90.000000  2.000000    0   15.000000  3.000000  15.000000  5.000000   \n",
       "40    2  110.000000  2.000000    1  260.000000  0.000000  21.000000  3.000000   \n",
       "28    1   90.225564  2.255639    0  180.451128  3.759398  10.526316  9.022556   \n",
       "16    1  100.000000  2.000000    0  290.000000  1.000000  21.000000  2.000000   \n",
       "63    6   96.385542  2.409639    0    0.000000  3.614458  19.277108  0.000000   \n",
       "\n",
       "        potass   vitamins     shelf  cups  \n",
       "68   90.000000  25.000000  2.000000  1.00  \n",
       "40   40.000000  25.000000  2.000000  1.50  \n",
       "28  142.857143  18.796992  2.255639  0.67  \n",
       "16   35.000000  25.000000  1.000000  1.00  \n",
       "63  114.457831   0.000000  1.204819  1.00  "
      ]
     },
     "execution_count": 26,
     "metadata": {},
     "output_type": "execute_result"
    }
   ],
   "source": [
    "df3.head() # these are all numbers now"
   ]
  },
  {
   "cell_type": "code",
   "execution_count": 27,
   "metadata": {
    "collapsed": false
   },
   "outputs": [],
   "source": [
    "v4 = preprocessing.scale(df3) # converts dataframe to numpy array and does scaling"
   ]
  },
  {
   "cell_type": "code",
   "execution_count": 28,
   "metadata": {
    "collapsed": false
   },
   "outputs": [
    {
     "name": "stdout",
     "output_type": "stream",
     "text": [
      "-2.33146835171e-15\n",
      "3.44169137634e-15\n"
     ]
    }
   ],
   "source": [
    "print(sum(v4[:,0]))\n",
    "print(sum(v4[:,1]))"
   ]
  },
  {
   "cell_type": "code",
   "execution_count": 34,
   "metadata": {
    "collapsed": false
   },
   "outputs": [
    {
     "data": {
      "text/html": [
       "<div style=\"max-height:1000px;max-width:1500px;overflow:auto;\">\n",
       "<table border=\"1\" class=\"dataframe\">\n",
       "  <thead>\n",
       "    <tr style=\"text-align: right;\">\n",
       "      <th></th>\n",
       "      <th>calories</th>\n",
       "      <th>protein</th>\n",
       "      <th>fat</th>\n",
       "      <th>sodium</th>\n",
       "      <th>fiber</th>\n",
       "      <th>carbo</th>\n",
       "      <th>sugars</th>\n",
       "      <th>potass</th>\n",
       "      <th>vitamins</th>\n",
       "      <th>shelf</th>\n",
       "      <th>cups</th>\n",
       "    </tr>\n",
       "  </thead>\n",
       "  <tbody>\n",
       "    <tr>\n",
       "      <th>68</th>\n",
       "      <td>90.000000</td>\n",
       "      <td>2.000000</td>\n",
       "      <td>0</td>\n",
       "      <td>15.000000</td>\n",
       "      <td>3.000000</td>\n",
       "      <td>15.000000</td>\n",
       "      <td>5.000000</td>\n",
       "      <td>90.000000</td>\n",
       "      <td>25.000000</td>\n",
       "      <td>2.000000</td>\n",
       "      <td>1.00</td>\n",
       "    </tr>\n",
       "    <tr>\n",
       "      <th>40</th>\n",
       "      <td>110.000000</td>\n",
       "      <td>2.000000</td>\n",
       "      <td>1</td>\n",
       "      <td>260.000000</td>\n",
       "      <td>0.000000</td>\n",
       "      <td>21.000000</td>\n",
       "      <td>3.000000</td>\n",
       "      <td>40.000000</td>\n",
       "      <td>25.000000</td>\n",
       "      <td>2.000000</td>\n",
       "      <td>1.50</td>\n",
       "    </tr>\n",
       "    <tr>\n",
       "      <th>28</th>\n",
       "      <td>90.225564</td>\n",
       "      <td>2.255639</td>\n",
       "      <td>0</td>\n",
       "      <td>180.451128</td>\n",
       "      <td>3.759398</td>\n",
       "      <td>10.526316</td>\n",
       "      <td>9.022556</td>\n",
       "      <td>142.857143</td>\n",
       "      <td>18.796992</td>\n",
       "      <td>2.255639</td>\n",
       "      <td>0.67</td>\n",
       "    </tr>\n",
       "    <tr>\n",
       "      <th>16</th>\n",
       "      <td>100.000000</td>\n",
       "      <td>2.000000</td>\n",
       "      <td>0</td>\n",
       "      <td>290.000000</td>\n",
       "      <td>1.000000</td>\n",
       "      <td>21.000000</td>\n",
       "      <td>2.000000</td>\n",
       "      <td>35.000000</td>\n",
       "      <td>25.000000</td>\n",
       "      <td>1.000000</td>\n",
       "      <td>1.00</td>\n",
       "    </tr>\n",
       "    <tr>\n",
       "      <th>63</th>\n",
       "      <td>96.385542</td>\n",
       "      <td>2.409639</td>\n",
       "      <td>0</td>\n",
       "      <td>0.000000</td>\n",
       "      <td>3.614458</td>\n",
       "      <td>19.277108</td>\n",
       "      <td>0.000000</td>\n",
       "      <td>114.457831</td>\n",
       "      <td>0.000000</td>\n",
       "      <td>1.204819</td>\n",
       "      <td>1.00</td>\n",
       "    </tr>\n",
       "  </tbody>\n",
       "</table>\n",
       "</div>"
      ],
      "text/plain": [
       "      calories   protein  fat      sodium     fiber      carbo    sugars  \\\n",
       "68   90.000000  2.000000    0   15.000000  3.000000  15.000000  5.000000   \n",
       "40  110.000000  2.000000    1  260.000000  0.000000  21.000000  3.000000   \n",
       "28   90.225564  2.255639    0  180.451128  3.759398  10.526316  9.022556   \n",
       "16  100.000000  2.000000    0  290.000000  1.000000  21.000000  2.000000   \n",
       "63   96.385542  2.409639    0    0.000000  3.614458  19.277108  0.000000   \n",
       "\n",
       "        potass   vitamins     shelf  cups  \n",
       "68   90.000000  25.000000  2.000000  1.00  \n",
       "40   40.000000  25.000000  2.000000  1.50  \n",
       "28  142.857143  18.796992  2.255639  0.67  \n",
       "16   35.000000  25.000000  1.000000  1.00  \n",
       "63  114.457831   0.000000  1.204819  1.00  "
      ]
     },
     "execution_count": 34,
     "metadata": {},
     "output_type": "execute_result"
    }
   ],
   "source": [
    "df3.ix[:,\"calories\":].head()"
   ]
  },
  {
   "cell_type": "code",
   "execution_count": 33,
   "metadata": {
    "collapsed": false
   },
   "outputs": [
    {
     "data": {
      "image/png": "[encoded data removed]",
      "text/plain": [
       "<matplotlib.figure.Figure at 0x110fc27f0>"
      ]
     },
     "metadata": {},
     "output_type": "display_data"
    }
   ],
   "source": [
    "scatter_matrix(df3.ix[:,\"calories\":], alpha=0.2, figsize=(30, 20), diagonal='kde');"
   ]
  },
  {
   "cell_type": "markdown",
   "metadata": {},
   "source": [
    "## Cluster Analysis"
   ]
  },
  {
   "cell_type": "code",
   "execution_count": 35,
   "metadata": {
    "collapsed": false
   },
   "outputs": [],
   "source": [
    "groups = pd.DataFrame(index=df.index)\n",
    "groups[\"name\"] = df[\"name\"]\n",
    "for i in range(2,10):\n",
    "    kmeans = KMeans(i)\n",
    "    kmeans.fit(v4)\n",
    "    clusters = kmeans.predict(v4)\n",
    "    col_name = \"g\"+(str(i).rjust(2)).replace(\" \", \"0\")\n",
    "    groups[col_name] = clusters"
   ]
  },
  {
   "cell_type": "markdown",
   "metadata": {},
   "source": [
    "The above code actually applies the k-mean method to the data. But we have used a wide range of number of groups, from 2 to 10. Those were all stored into a dataframe so that we can later try to visualize and understand."
   ]
  },
  {
   "cell_type": "code",
   "execution_count": 36,
   "metadata": {
    "collapsed": false
   },
   "outputs": [
    {
     "data": {
      "text/html": [
       "<div style=\"max-height:1000px;max-width:1500px;overflow:auto;\">\n",
       "<table border=\"1\" class=\"dataframe\">\n",
       "  <thead>\n",
       "    <tr style=\"text-align: right;\">\n",
       "      <th></th>\n",
       "      <th>name</th>\n",
       "      <th>g02</th>\n",
       "      <th>g03</th>\n",
       "      <th>g04</th>\n",
       "      <th>g05</th>\n",
       "      <th>g06</th>\n",
       "      <th>g07</th>\n",
       "      <th>g08</th>\n",
       "      <th>g09</th>\n",
       "    </tr>\n",
       "  </thead>\n",
       "  <tbody>\n",
       "    <tr>\n",
       "      <th>68</th>\n",
       "      <td>Strawberry_Fruit_Wheats</td>\n",
       "      <td>1</td>\n",
       "      <td>0</td>\n",
       "      <td>1</td>\n",
       "      <td>0</td>\n",
       "      <td>3</td>\n",
       "      <td>1</td>\n",
       "      <td>2</td>\n",
       "      <td>6</td>\n",
       "    </tr>\n",
       "    <tr>\n",
       "      <th>40</th>\n",
       "      <td>Kix</td>\n",
       "      <td>0</td>\n",
       "      <td>2</td>\n",
       "      <td>0</td>\n",
       "      <td>3</td>\n",
       "      <td>2</td>\n",
       "      <td>3</td>\n",
       "      <td>3</td>\n",
       "      <td>5</td>\n",
       "    </tr>\n",
       "    <tr>\n",
       "      <th>28</th>\n",
       "      <td>Fruitful_Bran</td>\n",
       "      <td>1</td>\n",
       "      <td>0</td>\n",
       "      <td>2</td>\n",
       "      <td>4</td>\n",
       "      <td>1</td>\n",
       "      <td>5</td>\n",
       "      <td>0</td>\n",
       "      <td>2</td>\n",
       "    </tr>\n",
       "    <tr>\n",
       "      <th>16</th>\n",
       "      <td>Corn_Flakes</td>\n",
       "      <td>0</td>\n",
       "      <td>2</td>\n",
       "      <td>0</td>\n",
       "      <td>3</td>\n",
       "      <td>2</td>\n",
       "      <td>3</td>\n",
       "      <td>3</td>\n",
       "      <td>5</td>\n",
       "    </tr>\n",
       "    <tr>\n",
       "      <th>63</th>\n",
       "      <td>Shredded_Wheat</td>\n",
       "      <td>1</td>\n",
       "      <td>0</td>\n",
       "      <td>1</td>\n",
       "      <td>0</td>\n",
       "      <td>3</td>\n",
       "      <td>1</td>\n",
       "      <td>2</td>\n",
       "      <td>6</td>\n",
       "    </tr>\n",
       "  </tbody>\n",
       "</table>\n",
       "</div>"
      ],
      "text/plain": [
       "                       name  g02  g03  g04  g05  g06  g07  g08  g09\n",
       "68  Strawberry_Fruit_Wheats    1    0    1    0    3    1    2    6\n",
       "40                      Kix    0    2    0    3    2    3    3    5\n",
       "28            Fruitful_Bran    1    0    2    4    1    5    0    2\n",
       "16              Corn_Flakes    0    2    0    3    2    3    3    5\n",
       "63           Shredded_Wheat    1    0    1    0    3    1    2    6"
      ]
     },
     "execution_count": 36,
     "metadata": {},
     "output_type": "execute_result"
    }
   ],
   "source": [
    "groups.head()"
   ]
  },
  {
   "cell_type": "code",
   "execution_count": 37,
   "metadata": {
    "collapsed": false
   },
   "outputs": [],
   "source": [
    "big_list = []\n",
    "for i in range(2,10):\n",
    "    col_val = groups.columns[i-1]\n",
    "    lex_list = [[] for k in range(i)]\n",
    "    for j in range(len(groups)):\n",
    "        idx = groups[col_val][j]\n",
    "#        print(idx)\n",
    "        lex_list[idx].append(groups[\"name\"][j])\n",
    "    big_list.append(lex_list)"
   ]
  },
  {
   "cell_type": "code",
   "execution_count": 38,
   "metadata": {
    "collapsed": true
   },
   "outputs": [],
   "source": [
    "def print_big_list(lex_list):\n",
    "    '''Organizes the groups from one trial (set number of groups) into a column-based printout'''\n",
    "    Ncols = min(4, len(lex_list))\n",
    "    sections = len(lex_list) // Ncols\n",
    "    for k in range(sections):\n",
    "        upper_lim = min((k+1)*4, len(lex_list))\n",
    "        red_list = lex_list[k*4:upper_lim]\n",
    "        MaxI = max([len(val) for val in lex_list])\n",
    "        for j in range(Ncols):\n",
    "            print((\" Category \"+str(j+k*4)).ljust(28), end=\"\")\n",
    "        print(\"\")\n",
    "        for i in range(MaxI):\n",
    "            for j in range(Ncols):\n",
    "                if i < len(red_list[j]):\n",
    "                    print(red_list[j][i][:25].ljust(25)+\"   \", end=\"\")\n",
    "                else:\n",
    "                    print(\" \"*28, end=\"\")\n",
    "            print(\"\")\n",
    "        print(\"\")\n",
    "    "
   ]
  },
  {
   "cell_type": "code",
   "execution_count": 39,
   "metadata": {
    "collapsed": false
   },
   "outputs": [
    {
     "name": "stdout",
     "output_type": "stream",
     "text": [
      " Category 0                  Category 1                  Category 2                  Category 3                 \n",
      "Cream_of_Wheat_(Quick)      Apple_Cinnamon_Cheerios     100%_Bran                   Cheerios                    \n",
      "Maypo                       Apple_Jacks                 All-Bran                    Corn_Chex                   \n",
      "Puffed_Rice                 Cap'n'Crunch                All-Bran_with_Extra_Fiber   Corn_Flakes                 \n",
      "Puffed_Wheat                Cinnamon_Toast_Crunch                                   Crispix                     \n",
      "Quaker_Oatmeal              Cocoa_Puffs                                             Double_Chex                 \n",
      "Shredded_Wheat              Corn_Pops                                               Just_Right_Crunchy__Nugge   \n",
      "Shredded_Wheat_'n'Bran      Count_Chocula                                           Just_Right_Fruit_&_Nut      \n",
      "Shredded_Wheat_spoon_size   Froot_Loops                                             Kix                         \n",
      "Strawberry_Fruit_Wheats     Frosted_Flakes                                          Multi-Grain_Cheerios        \n",
      "                            Fruity_Pebbles                                          Nutri-grain_Wheat           \n",
      "                            Golden_Crisp                                            Product_19                  \n",
      "                            Golden_Grahams                                          Rice_Chex                   \n",
      "                            Honey_Graham_Ohs                                        Rice_Krispies               \n",
      "                            Honey_Nut_Cheerios                                      Special_K                   \n",
      "                            Honey-comb                                              Total_Corn_Flakes           \n",
      "                            Lucky_Charms                                            Total_Whole_Grain           \n",
      "                            Nut&Honey_Crunch                                        Triples                     \n",
      "                            Smacks                                                  Wheaties                    \n",
      "                            Trix                                                                                \n",
      "                            Wheaties_Honey_Gold                                                                 \n",
      "                                                                                                                \n",
      "                                                                                                                \n",
      "                                                                                                                \n",
      "                                                                                                                \n",
      "                                                                                                                \n",
      "                                                                                                                \n",
      "                                                                                                                \n",
      "\n"
     ]
    }
   ],
   "source": [
    "print_big_list(big_list[3])"
   ]
  },
  {
   "cell_type": "markdown",
   "metadata": {},
   "source": [
    "We have 4 columns here. A general eyeballing of the contents suggests categories of:\n",
    " - Generic flakes and Os\n",
    " - Sugar cereals\n",
    " - The \"naturals\" category\n",
    " - Exclusively fiber stuff"
   ]
  },
  {
   "cell_type": "code",
   "execution_count": 40,
   "metadata": {
    "collapsed": false
   },
   "outputs": [
    {
     "name": "stdout",
     "output_type": "stream",
     "text": [
      " Category 0                  Category 1                  Category 2                  Category 3                 \n",
      "Almond_Delight              Apple_Cinnamon_Cheerios     Cream_of_Wheat_(Quick)      Cheerios                    \n",
      "Basic_4                     Apple_Jacks                 Maypo                       Corn_Chex                   \n",
      "Bran_Chex                   Cap'n'Crunch                Quaker_Oatmeal              Corn_Flakes                 \n",
      "Bran_Flakes                 Cinnamon_Toast_Crunch       Shredded_Wheat              Crispix                     \n",
      "Clusters                    Cocoa_Puffs                 Shredded_Wheat_'n'Bran      Double_Chex                 \n",
      "Cracklin'_Oat_Bran          Corn_Pops                   Shredded_Wheat_spoon_size   Kix                         \n",
      "Crispy_Wheat_&_Raisins      Count_Chocula               Strawberry_Fruit_Wheats     Multi-Grain_Cheerios        \n",
      "Frosted_Mini-Wheats         Froot_Loops                                             Nutri-grain_Wheat           \n",
      "Fruit_&_Fibre_Dates,_Waln   Frosted_Flakes                                          Rice_Chex                   \n",
      "Fruitful_Bran               Fruity_Pebbles                                          Rice_Krispies               \n",
      "Grape_Nuts_Flakes           Golden_Crisp                                            Special_K                   \n",
      "Grape-Nuts                  Golden_Grahams                                          Triples                     \n",
      "Life                        Honey_Graham_Ohs                                        Wheat_Chex                  \n",
      "Mueslix_Crispy_Blend        Honey_Nut_Cheerios                                      Wheaties                    \n",
      "Nutri-Grain_Almond-Raisin   Honey-comb                                                                          \n",
      "Oatmeal_Raisin_Crisp        Lucky_Charms                                                                        \n",
      "Post_Nat._Raisin_Bran       Nut&Honey_Crunch                                                                    \n",
      "Quaker_Oat_Squares          Smacks                                                                              \n",
      "Raisin_Bran                 Trix                                                                                \n",
      "Raisin_Nut_Bran             Wheaties_Honey_Gold                                                                 \n",
      "Raisin_Squares                                                                                                  \n",
      "\n",
      " Category 4                  Category 5                  Category 6                  Category 7                 \n",
      "Just_Right_Crunchy__Nugge   100%_Bran                   Puffed_Rice                 100%_Natural_Bran           \n",
      "Just_Right_Fruit_&_Nut      All-Bran                    Puffed_Wheat                Great_Grains_Pecan          \n",
      "Product_19                  All-Bran_with_Extra_Fiber                               Muesli_Raisins,_Dates,_&_   \n",
      "Total_Corn_Flakes                                                                   Muesli_Raisins,_Peaches,_   \n",
      "Total_Raisin_Bran                                                                                               \n",
      "Total_Whole_Grain                                                                                               \n",
      "                                                                                                                \n",
      "                                                                                                                \n",
      "                                                                                                                \n",
      "                                                                                                                \n",
      "                                                                                                                \n",
      "                                                                                                                \n",
      "                                                                                                                \n",
      "                                                                                                                \n",
      "                                                                                                                \n",
      "                                                                                                                \n",
      "                                                                                                                \n",
      "                                                                                                                \n",
      "                                                                                                                \n",
      "                                                                                                                \n",
      "                                                                                                                \n",
      "\n"
     ]
    }
   ],
   "source": [
    "print_big_list(big_list[6])"
   ]
  },
  {
   "cell_type": "markdown",
   "metadata": {},
   "source": [
    "Breaking it up into 8 categories, we see the emergence of new classes of cereals.\n",
    " - \"Puff\" cereals\n",
    " - Weight-loss cereals\n",
    " - Rains and dates\n",
    " - bran"
   ]
  },
  {
   "cell_type": "code",
   "execution_count": null,
   "metadata": {
    "collapsed": true
   },
   "outputs": [],
   "source": []
  },
  {
   "cell_type": "markdown",
   "metadata": {
    "collapsed": true
   },
   "source": [
    "# Predicting category of Bran flakes from Trader Joes"
   ]
  },
  {
   "cell_type": "code",
   "execution_count": 41,
   "metadata": {
    "collapsed": false
   },
   "outputs": [
    {
     "name": "stdout",
     "output_type": "stream",
     "text": [
      " Category 0                  Category 1                  Category 2                  Category 3                 \n",
      "All-Bran                    100%_Bran                   100%_Natural_Bran           Fruitful_Bran               \n",
      "Bran_Chex                   Almond_Delight              All-Bran_with_Extra_Fiber   Shredded_Wheat_spoon_size   \n",
      "Clusters                    Cap'n'Crunch                Apple_Cinnamon_Cheerios     Total_Corn_Flakes           \n",
      "Corn_Flakes                 Cinnamon_Toast_Crunch       Apple_Jacks                                             \n",
      "Corn_Pops                   Count_Chocula               Basic_4                                                 \n",
      "Cracklin'_Oat_Bran          Double_Chex                 Bran_Flakes                                             \n",
      "Cream_of_Wheat_(Quick)      Froot_Loops                 Cheerios                                                \n",
      "Crispix                     Muesli_Raisins,_Dates,_&_   Cocoa_Puffs                                             \n",
      "Crispy_Wheat_&_Raisins      Nutri-grain_Wheat           Corn_Chex                                               \n",
      "Frosted_Flakes              Raisin_Bran                 Golden_Crisp                                            \n",
      "Frosted_Mini-Wheats                                     Golden_Grahams                                          \n",
      "Fruit_&_Fibre_Dates,_Waln                               Grape-Nuts                                              \n",
      "Fruity_Pebbles                                          Just_Right_Fruit_&_Nut                                  \n",
      "Grape_Nuts_Flakes                                       Mueslix_Crispy_Blend                                    \n",
      "Great_Grains_Pecan                                      Oatmeal_Raisin_Crisp                                    \n",
      "Honey_Graham_Ohs                                        Quaker_Oatmeal                                          \n",
      "Honey_Nut_Cheerios                                      Raisin_Squares                                          \n",
      "Honey-comb                                              Smacks                                                  \n",
      "Just_Right_Crunchy__Nugge                               Strawberry_Fruit_Wheats                                 \n",
      "Kix                                                     Total_Raisin_Bran                                       \n",
      "Life                                                    Total_Whole_Grain                                       \n",
      "Lucky_Charms                                            Wheaties                                                \n",
      "Maypo                                                                                                           \n",
      "Muesli_Raisins,_Peaches,_                                                                                       \n",
      "Multi-Grain_Cheerios                                                                                            \n",
      "Nut&Honey_Crunch                                                                                                \n",
      "Nutri-Grain_Almond-Raisin                                                                                       \n",
      "Post_Nat._Raisin_Bran                                                                                           \n",
      "Product_19                                                                                                      \n",
      "Puffed_Rice                                                                                                     \n",
      "Puffed_Wheat                                                                                                    \n",
      "Quaker_Oat_Squares                                                                                              \n",
      "Raisin_Nut_Bran                                                                                                 \n",
      "Rice_Chex                                                                                                       \n",
      "Rice_Krispies                                                                                                   \n",
      "Shredded_Wheat                                                                                                  \n",
      "Shredded_Wheat_'n'Bran                                                                                          \n",
      "Special_K                                                                                                       \n",
      "Triples                                                                                                         \n",
      "Trix                                                                                                            \n",
      "Wheat_Chex                                                                                                      \n",
      "Wheaties_Honey_Gold                                                                                             \n",
      "\n"
     ]
    }
   ],
   "source": [
    "kmeans = KMeans(4)\n",
    "kmeans.fit(v4)\n",
    "clusters = kmeans.predict(v4)\n",
    "\n",
    "lex_list = [[] for k in range(4)]\n",
    "for j in range(len(clusters)):\n",
    "    idx = clusters[j]\n",
    "    lex_list[idx].append(df[\"name\"][j])\n",
    "print_big_list(lex_list)"
   ]
  },
  {
   "cell_type": "code",
   "execution_count": 42,
   "metadata": {
    "collapsed": false
   },
   "outputs": [
    {
     "data": {
      "text/plain": [
       "mfr           6.00\n",
       "calories     70.00\n",
       "protein       4.00\n",
       "fat           1.00\n",
       "sodium      130.00\n",
       "fiber        10.00\n",
       "carbo         5.00\n",
       "sugars        6.00\n",
       "potass      280.00\n",
       "vitamins     25.00\n",
       "shelf         3.00\n",
       "cups          0.33\n",
       "Name: 0, dtype: float64"
      ]
     },
     "execution_count": 42,
     "metadata": {},
     "output_type": "execute_result"
    }
   ],
   "source": [
    "df3.ix[0]"
   ]
  },
  {
   "cell_type": "code",
   "execution_count": 43,
   "metadata": {
    "collapsed": false
   },
   "outputs": [
    {
     "data": {
      "text/plain": [
       "array([3], dtype=int32)"
      ]
     },
     "execution_count": 43,
     "metadata": {},
     "output_type": "execute_result"
    }
   ],
   "source": [
    "kmeans.predict(df3.ix[0])"
   ]
  },
  {
   "cell_type": "code",
   "execution_count": 44,
   "metadata": {
    "collapsed": true
   },
   "outputs": [],
   "source": [
    "# Bran flakes data\n",
    "BF = [6., 100., 3., 0.5, 220., 5., 24., 6., 170., 35., 3., 0.75]"
   ]
  },
  {
   "cell_type": "code",
   "execution_count": 45,
   "metadata": {
    "collapsed": false
   },
   "outputs": [
    {
     "data": {
      "text/plain": [
       "array([3], dtype=int32)"
      ]
     },
     "execution_count": 45,
     "metadata": {},
     "output_type": "execute_result"
    }
   ],
   "source": [
    "kmeans.predict(BF)"
   ]
  },
  {
   "cell_type": "markdown",
   "metadata": {},
   "source": [
    "It gets grouped in with the Corn Flakes and oatmeal cereal. That seems reasonable."
   ]
  },
  {
   "cell_type": "code",
   "execution_count": null,
   "metadata": {
    "collapsed": true
   },
   "outputs": [],
   "source": []
  },
  {
   "cell_type": "code",
   "execution_count": null,
   "metadata": {
    "collapsed": true
   },
   "outputs": [],
   "source": []
  },
  {
   "cell_type": "code",
   "execution_count": 48,
   "metadata": {
    "collapsed": false
   },
   "outputs": [],
   "source": [
    "df3['group'] = clusters"
   ]
  },
  {
   "cell_type": "code",
   "execution_count": 49,
   "metadata": {
    "collapsed": false
   },
   "outputs": [
    {
     "data": {
      "text/html": [
       "<div style=\"max-height:1000px;max-width:1500px;overflow:auto;\">\n",
       "<table border=\"1\" class=\"dataframe\">\n",
       "  <thead>\n",
       "    <tr style=\"text-align: right;\">\n",
       "      <th></th>\n",
       "      <th>mfr</th>\n",
       "      <th>calories</th>\n",
       "      <th>protein</th>\n",
       "      <th>fat</th>\n",
       "      <th>sodium</th>\n",
       "      <th>fiber</th>\n",
       "      <th>carbo</th>\n",
       "      <th>sugars</th>\n",
       "      <th>potass</th>\n",
       "      <th>vitamins</th>\n",
       "      <th>shelf</th>\n",
       "      <th>cups</th>\n",
       "      <th>group</th>\n",
       "    </tr>\n",
       "  </thead>\n",
       "  <tbody>\n",
       "    <tr>\n",
       "      <th>68</th>\n",
       "      <td>6</td>\n",
       "      <td>90.000000</td>\n",
       "      <td>2.000000</td>\n",
       "      <td>0</td>\n",
       "      <td>15.000000</td>\n",
       "      <td>3.000000</td>\n",
       "      <td>15.000000</td>\n",
       "      <td>5.000000</td>\n",
       "      <td>90.000000</td>\n",
       "      <td>25.000000</td>\n",
       "      <td>2.000000</td>\n",
       "      <td>1.00</td>\n",
       "      <td>1</td>\n",
       "    </tr>\n",
       "    <tr>\n",
       "      <th>40</th>\n",
       "      <td>2</td>\n",
       "      <td>110.000000</td>\n",
       "      <td>2.000000</td>\n",
       "      <td>1</td>\n",
       "      <td>260.000000</td>\n",
       "      <td>0.000000</td>\n",
       "      <td>21.000000</td>\n",
       "      <td>3.000000</td>\n",
       "      <td>40.000000</td>\n",
       "      <td>25.000000</td>\n",
       "      <td>2.000000</td>\n",
       "      <td>1.50</td>\n",
       "      <td>2</td>\n",
       "    </tr>\n",
       "    <tr>\n",
       "      <th>28</th>\n",
       "      <td>1</td>\n",
       "      <td>90.225564</td>\n",
       "      <td>2.255639</td>\n",
       "      <td>0</td>\n",
       "      <td>180.451128</td>\n",
       "      <td>3.759398</td>\n",
       "      <td>10.526316</td>\n",
       "      <td>9.022556</td>\n",
       "      <td>142.857143</td>\n",
       "      <td>18.796992</td>\n",
       "      <td>2.255639</td>\n",
       "      <td>0.67</td>\n",
       "      <td>0</td>\n",
       "    </tr>\n",
       "    <tr>\n",
       "      <th>16</th>\n",
       "      <td>1</td>\n",
       "      <td>100.000000</td>\n",
       "      <td>2.000000</td>\n",
       "      <td>0</td>\n",
       "      <td>290.000000</td>\n",
       "      <td>1.000000</td>\n",
       "      <td>21.000000</td>\n",
       "      <td>2.000000</td>\n",
       "      <td>35.000000</td>\n",
       "      <td>25.000000</td>\n",
       "      <td>1.000000</td>\n",
       "      <td>1.00</td>\n",
       "      <td>2</td>\n",
       "    </tr>\n",
       "    <tr>\n",
       "      <th>63</th>\n",
       "      <td>6</td>\n",
       "      <td>96.385542</td>\n",
       "      <td>2.409639</td>\n",
       "      <td>0</td>\n",
       "      <td>0.000000</td>\n",
       "      <td>3.614458</td>\n",
       "      <td>19.277108</td>\n",
       "      <td>0.000000</td>\n",
       "      <td>114.457831</td>\n",
       "      <td>0.000000</td>\n",
       "      <td>1.204819</td>\n",
       "      <td>1.00</td>\n",
       "      <td>1</td>\n",
       "    </tr>\n",
       "  </tbody>\n",
       "</table>\n",
       "</div>"
      ],
      "text/plain": [
       "    mfr    calories   protein  fat      sodium     fiber      carbo    sugars  \\\n",
       "68    6   90.000000  2.000000    0   15.000000  3.000000  15.000000  5.000000   \n",
       "40    2  110.000000  2.000000    1  260.000000  0.000000  21.000000  3.000000   \n",
       "28    1   90.225564  2.255639    0  180.451128  3.759398  10.526316  9.022556   \n",
       "16    1  100.000000  2.000000    0  290.000000  1.000000  21.000000  2.000000   \n",
       "63    6   96.385542  2.409639    0    0.000000  3.614458  19.277108  0.000000   \n",
       "\n",
       "        potass   vitamins     shelf  cups  group  \n",
       "68   90.000000  25.000000  2.000000  1.00      1  \n",
       "40   40.000000  25.000000  2.000000  1.50      2  \n",
       "28  142.857143  18.796992  2.255639  0.67      0  \n",
       "16   35.000000  25.000000  1.000000  1.00      2  \n",
       "63  114.457831   0.000000  1.204819  1.00      1  "
      ]
     },
     "execution_count": 49,
     "metadata": {},
     "output_type": "execute_result"
    }
   ],
   "source": [
    "df3.head()"
   ]
  },
  {
   "cell_type": "code",
   "execution_count": 60,
   "metadata": {
    "collapsed": false
   },
   "outputs": [
    {
     "data": {
      "text/plain": [
       "Index(['calories', 'protein', 'fat', 'sodium', 'fiber', 'carbo', 'sugars',\n",
       "       'potass', 'vitamins', 'shelf', 'cups'],\n",
       "      dtype='object')"
      ]
     },
     "execution_count": 60,
     "metadata": {},
     "output_type": "execute_result"
    }
   ],
   "source": [
    "df3.columns[1:-1]"
   ]
  },
  {
   "cell_type": "code",
   "execution_count": 66,
   "metadata": {
    "collapsed": false
   },
   "outputs": [
    {
     "data": {
      "text/plain": [
       "3"
      ]
     },
     "execution_count": 66,
     "metadata": {},
     "output_type": "execute_result"
    }
   ],
   "source": [
    "max(df3[\"group\"])"
   ]
  },
  {
   "cell_type": "code",
   "execution_count": 76,
   "metadata": {
    "collapsed": false
   },
   "outputs": [
    {
     "data": {
      "text/plain": [
       "3.7593984962406015"
      ]
     },
     "execution_count": 76,
     "metadata": {},
     "output_type": "execute_result"
    }
   ],
   "source": [
    "df3.ix[28,\"fiber\"]"
   ]
  },
  {
   "cell_type": "code",
   "execution_count": 68,
   "metadata": {
    "collapsed": false
   },
   "outputs": [],
   "source": [
    "group_df = pd.DataFrame([i for i in range(4)])"
   ]
  },
  {
   "cell_type": "code",
   "execution_count": 72,
   "metadata": {
    "collapsed": false
   },
   "outputs": [
    {
     "data": {
      "text/plain": [
       "0    0\n",
       "1    0\n",
       "2    0\n",
       "3    0\n",
       "dtype: int64"
      ]
     },
     "execution_count": 72,
     "metadata": {},
     "output_type": "execute_result"
    }
   ],
   "source": [
    "pd.Series([0 for i in range(4)])"
   ]
  },
  {
   "cell_type": "code",
   "execution_count": 73,
   "metadata": {
    "collapsed": true
   },
   "outputs": [],
   "source": [
    "for col in df3.columns[1:-1]:\n",
    "    group_df[col] = pd.Series([0 for i in range(4)])"
   ]
  },
  {
   "cell_type": "code",
   "execution_count": 75,
   "metadata": {
    "collapsed": false
   },
   "outputs": [
    {
     "data": {
      "text/html": [
       "<div style=\"max-height:1000px;max-width:1500px;overflow:auto;\">\n",
       "<table border=\"1\" class=\"dataframe\">\n",
       "  <thead>\n",
       "    <tr style=\"text-align: right;\">\n",
       "      <th></th>\n",
       "      <th>0</th>\n",
       "      <th>calories</th>\n",
       "      <th>protein</th>\n",
       "      <th>fat</th>\n",
       "      <th>sodium</th>\n",
       "      <th>fiber</th>\n",
       "      <th>carbo</th>\n",
       "      <th>sugars</th>\n",
       "      <th>potass</th>\n",
       "      <th>vitamins</th>\n",
       "      <th>shelf</th>\n",
       "      <th>cups</th>\n",
       "    </tr>\n",
       "  </thead>\n",
       "  <tbody>\n",
       "    <tr>\n",
       "      <th>0</th>\n",
       "      <td>0</td>\n",
       "      <td>0</td>\n",
       "      <td>0</td>\n",
       "      <td>0</td>\n",
       "      <td>0</td>\n",
       "      <td>0</td>\n",
       "      <td>0</td>\n",
       "      <td>0</td>\n",
       "      <td>0</td>\n",
       "      <td>0</td>\n",
       "      <td>0</td>\n",
       "      <td>0</td>\n",
       "    </tr>\n",
       "    <tr>\n",
       "      <th>1</th>\n",
       "      <td>1</td>\n",
       "      <td>0</td>\n",
       "      <td>0</td>\n",
       "      <td>0</td>\n",
       "      <td>0</td>\n",
       "      <td>0</td>\n",
       "      <td>0</td>\n",
       "      <td>0</td>\n",
       "      <td>0</td>\n",
       "      <td>0</td>\n",
       "      <td>0</td>\n",
       "      <td>0</td>\n",
       "    </tr>\n",
       "    <tr>\n",
       "      <th>2</th>\n",
       "      <td>2</td>\n",
       "      <td>0</td>\n",
       "      <td>0</td>\n",
       "      <td>0</td>\n",
       "      <td>0</td>\n",
       "      <td>0</td>\n",
       "      <td>0</td>\n",
       "      <td>0</td>\n",
       "      <td>0</td>\n",
       "      <td>0</td>\n",
       "      <td>0</td>\n",
       "      <td>0</td>\n",
       "    </tr>\n",
       "    <tr>\n",
       "      <th>3</th>\n",
       "      <td>3</td>\n",
       "      <td>0</td>\n",
       "      <td>0</td>\n",
       "      <td>0</td>\n",
       "      <td>0</td>\n",
       "      <td>0</td>\n",
       "      <td>0</td>\n",
       "      <td>0</td>\n",
       "      <td>0</td>\n",
       "      <td>0</td>\n",
       "      <td>0</td>\n",
       "      <td>0</td>\n",
       "    </tr>\n",
       "  </tbody>\n",
       "</table>\n",
       "</div>"
      ],
      "text/plain": [
       "   0  calories  protein  fat  sodium  fiber  carbo  sugars  potass  vitamins  \\\n",
       "0  0         0        0    0       0      0      0       0       0         0   \n",
       "1  1         0        0    0       0      0      0       0       0         0   \n",
       "2  2         0        0    0       0      0      0       0       0         0   \n",
       "3  3         0        0    0       0      0      0       0       0         0   \n",
       "\n",
       "   shelf  cups  \n",
       "0      0     0  \n",
       "1      0     0  \n",
       "2      0     0  \n",
       "3      0     0  "
      ]
     },
     "execution_count": 75,
     "metadata": {},
     "output_type": "execute_result"
    }
   ],
   "source": [
    "group_df"
   ]
  },
  {
   "cell_type": "code",
   "execution_count": 79,
   "metadata": {
    "collapsed": false
   },
   "outputs": [],
   "source": [
    "for g in range(4):\n",
    "    for col in df3.columns[1:-1]:\n",
    "        s = df3[df3[\"group\"] == g][col]\n",
    "        group_df.ix[g,col] = sum(s)/len(s)"
   ]
  },
  {
   "cell_type": "code",
   "execution_count": 80,
   "metadata": {
    "collapsed": false
   },
   "outputs": [
    {
     "data": {
      "text/html": [
       "<div style=\"max-height:1000px;max-width:1500px;overflow:auto;\">\n",
       "<table border=\"1\" class=\"dataframe\">\n",
       "  <thead>\n",
       "    <tr style=\"text-align: right;\">\n",
       "      <th></th>\n",
       "      <th>0</th>\n",
       "      <th>calories</th>\n",
       "      <th>protein</th>\n",
       "      <th>fat</th>\n",
       "      <th>sodium</th>\n",
       "      <th>fiber</th>\n",
       "      <th>carbo</th>\n",
       "      <th>sugars</th>\n",
       "      <th>potass</th>\n",
       "      <th>vitamins</th>\n",
       "      <th>shelf</th>\n",
       "      <th>cups</th>\n",
       "    </tr>\n",
       "  </thead>\n",
       "  <tbody>\n",
       "    <tr>\n",
       "      <th>0</th>\n",
       "      <td>0</td>\n",
       "      <td>108.421053</td>\n",
       "      <td>2.097100</td>\n",
       "      <td>1.350269</td>\n",
       "      <td>146.373732</td>\n",
       "      <td>1.646575</td>\n",
       "      <td>12.330475</td>\n",
       "      <td>9.615467</td>\n",
       "      <td>88.304934</td>\n",
       "      <td>24.221864</td>\n",
       "      <td>2.103008</td>\n",
       "      <td>0.784524</td>\n",
       "    </tr>\n",
       "    <tr>\n",
       "      <th>1</th>\n",
       "      <td>1</td>\n",
       "      <td>96.638554</td>\n",
       "      <td>3.240964</td>\n",
       "      <td>0.400000</td>\n",
       "      <td>23.000000</td>\n",
       "      <td>2.131446</td>\n",
       "      <td>18.487451</td>\n",
       "      <td>2.092208</td>\n",
       "      <td>100.553575</td>\n",
       "      <td>7.500000</td>\n",
       "      <td>2.520482</td>\n",
       "      <td>0.851000</td>\n",
       "    </tr>\n",
       "    <tr>\n",
       "      <th>2</th>\n",
       "      <td>2</td>\n",
       "      <td>104.440559</td>\n",
       "      <td>2.695804</td>\n",
       "      <td>0.534965</td>\n",
       "      <td>222.762238</td>\n",
       "      <td>1.569930</td>\n",
       "      <td>18.335664</td>\n",
       "      <td>3.496503</td>\n",
       "      <td>72.185315</td>\n",
       "      <td>40.996503</td>\n",
       "      <td>2.104895</td>\n",
       "      <td>0.936364</td>\n",
       "    </tr>\n",
       "    <tr>\n",
       "      <th>3</th>\n",
       "      <td>3</td>\n",
       "      <td>63.333333</td>\n",
       "      <td>4.000000</td>\n",
       "      <td>0.666667</td>\n",
       "      <td>176.666667</td>\n",
       "      <td>11.000000</td>\n",
       "      <td>6.666667</td>\n",
       "      <td>3.666667</td>\n",
       "      <td>310.000000</td>\n",
       "      <td>25.000000</td>\n",
       "      <td>3.000000</td>\n",
       "      <td>0.386667</td>\n",
       "    </tr>\n",
       "  </tbody>\n",
       "</table>\n",
       "</div>"
      ],
      "text/plain": [
       "   0    calories   protein       fat      sodium      fiber      carbo  \\\n",
       "0  0  108.421053  2.097100  1.350269  146.373732   1.646575  12.330475   \n",
       "1  1   96.638554  3.240964  0.400000   23.000000   2.131446  18.487451   \n",
       "2  2  104.440559  2.695804  0.534965  222.762238   1.569930  18.335664   \n",
       "3  3   63.333333  4.000000  0.666667  176.666667  11.000000   6.666667   \n",
       "\n",
       "     sugars      potass   vitamins     shelf      cups  \n",
       "0  9.615467   88.304934  24.221864  2.103008  0.784524  \n",
       "1  2.092208  100.553575   7.500000  2.520482  0.851000  \n",
       "2  3.496503   72.185315  40.996503  2.104895  0.936364  \n",
       "3  3.666667  310.000000  25.000000  3.000000  0.386667  "
      ]
     },
     "execution_count": 80,
     "metadata": {},
     "output_type": "execute_result"
    }
   ],
   "source": [
    "group_df"
   ]
  },
  {
   "cell_type": "markdown",
   "metadata": {},
   "source": [
    "That final group has a dramatically larger amount of fiber compared to the others."
   ]
  },
  {
   "cell_type": "code",
   "execution_count": null,
   "metadata": {
    "collapsed": true
   },
   "outputs": [],
   "source": []
  }
 ],
 "metadata": {
  "kernelspec": {
   "display_name": "Python 3",
   "language": "python",
   "name": "python3"
  },
  "language_info": {
   "codemirror_mode": {
    "name": "ipython",
    "version": 3
   },
   "file_extension": ".py",
   "mimetype": "text/x-python",
   "name": "python",
   "nbconvert_exporter": "python",
   "pygments_lexer": "ipython3",
   "version": "3.4.3"
  }
 },
 "nbformat": 4,
 "nbformat_minor": 0
}
